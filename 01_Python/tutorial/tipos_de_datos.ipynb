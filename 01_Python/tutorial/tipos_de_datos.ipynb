{
 "cells": [
  {
   "attachments": {},
   "cell_type": "markdown",
   "metadata": {},
   "source": [
    "# NUMBERS\n",
    "\n",
    "## types\n",
    "int, float, Decimal, Fraction\n",
    "\n",
    "## operators\n",
    "`+`, `-`, `*`, `/`, `//`, `%`, `**`\n",
    "\n",
    "- `//` floor division (cociente)\n",
    "- `%` remainder (residuo)\n",
    "- `**` power (exponente)\n",
    "\n",
    "\n",
    "> Division (`/`) always returns a float.\n",
    "> Operators with mixed type operands convert the integer operand to floating point"
   ]
  },
  {
   "cell_type": "code",
   "execution_count": 2,
   "metadata": {},
   "outputs": [
    {
     "data": {
      "text/plain": [
       "14.0"
      ]
     },
     "execution_count": 2,
     "metadata": {},
     "output_type": "execute_result"
    }
   ],
   "source": [
    "4 * 3.75 - 1"
   ]
  },
  {
   "attachments": {},
   "cell_type": "markdown",
   "metadata": {},
   "source": [
    "----\n",
    "\n",
    "# STRINGS\n",
    "\n",
    "They can be enclosed in single quotes (`'...'`) or double quotes (`\"...\"`) with the same result 2. `\\` can be used to escape quotes.\n",
    "\n",
    "## raw string\n"
   ]
  },
  {
   "cell_type": "code",
   "execution_count": 3,
   "metadata": {},
   "outputs": [
    {
     "name": "stdout",
     "output_type": "stream",
     "text": [
      "C:\\some\\name\n"
     ]
    }
   ],
   "source": [
    "print(r'C:\\some\\name')"
   ]
  },
  {
   "attachments": {},
   "cell_type": "markdown",
   "metadata": {},
   "source": [
    "## multiline\n",
    "\n",
    "End of lines are automatically included in the string, but it’s possible to prevent this by adding a \\ at the end of the line"
   ]
  },
  {
   "cell_type": "code",
   "execution_count": 9,
   "metadata": {},
   "outputs": [
    {
     "name": "stdout",
     "output_type": "stream",
     "text": [
      "Usage: thingy [OPTIONS]\n",
      "     -h                        Display this usage message\n",
      "     -H hostname               Hostname to connect to\n",
      "other text\n"
     ]
    }
   ],
   "source": [
    "print(\"\"\"\\\n",
    "Usage: thingy [OPTIONS]\n",
    "     -h                        Display this usage message\n",
    "     -H hostname               Hostname to connect to\\\n",
    "\"\"\")\n",
    "print('other text')"
   ]
  },
  {
   "attachments": {},
   "cell_type": "markdown",
   "metadata": {},
   "source": [
    "Two or more string literals (i.e. the ones enclosed between quotes) next to each other are automatically concatenated. This only works with two literals though, not with variables or expressions."
   ]
  },
  {
   "cell_type": "code",
   "execution_count": 11,
   "metadata": {},
   "outputs": [
    {
     "name": "stdout",
     "output_type": "stream",
     "text": [
      "holamundo\n",
      "hola mundo\n",
      "holamundo\n"
     ]
    }
   ],
   "source": [
    "print('hola' + 'mundo')\n",
    "print('hola', 'mundo')\n",
    "print('hola' 'mundo')"
   ]
  },
  {
   "attachments": {},
   "cell_type": "markdown",
   "metadata": {},
   "source": [
    "## indexed (subscripted)"
   ]
  },
  {
   "cell_type": "code",
   "execution_count": 50,
   "metadata": {},
   "outputs": [
    {
     "name": "stdout",
     "output_type": "stream",
     "text": [
      "P\n",
      "n\n"
     ]
    }
   ],
   "source": [
    "word = 'Python'\n",
    "print(word[0])\n",
    "print(word[-1])     # to start counting from the right"
   ]
  },
  {
   "attachments": {},
   "cell_type": "markdown",
   "metadata": {},
   "source": [
    "Strings are **immutable**. Therefore, assigning to an indexed position in the string results in an error:"
   ]
  },
  {
   "cell_type": "code",
   "execution_count": 17,
   "metadata": {},
   "outputs": [
    {
     "ename": "TypeError",
     "evalue": "'str' object does not support item assignment",
     "output_type": "error",
     "traceback": [
      "\u001b[1;31m---------------------------------------------------------------------------\u001b[0m",
      "\u001b[1;31mTypeError\u001b[0m                                 Traceback (most recent call last)",
      "Cell \u001b[1;32mIn[17], line 1\u001b[0m\n\u001b[1;32m----> 1\u001b[0m word[\u001b[39m0\u001b[39;49m] \u001b[39m=\u001b[39m \u001b[39m'\u001b[39m\u001b[39mJ\u001b[39m\u001b[39m'\u001b[39m\n",
      "\u001b[1;31mTypeError\u001b[0m: 'str' object does not support item assignment"
     ]
    }
   ],
   "source": [
    "word[0] = 'J'"
   ]
  },
  {
   "attachments": {},
   "cell_type": "markdown",
   "metadata": {},
   "source": [
    "## slicing"
   ]
  },
  {
   "cell_type": "code",
   "execution_count": 51,
   "metadata": {},
   "outputs": [
    {
     "name": "stdout",
     "output_type": "stream",
     "text": [
      "tho\n",
      "Pytho\n",
      "thon\n",
      "on\n",
      "Pto\n"
     ]
    }
   ],
   "source": [
    "print(word[2:5]) # position 2 (included) to 5 (excluded)\n",
    "print(word[:5]) # from zero to four\n",
    "print(word[2:]) # from zero to end\n",
    "print(word[-2:])\n",
    "print(word[::2]) # saltos de a 2"
   ]
  },
  {
   "attachments": {},
   "cell_type": "markdown",
   "metadata": {},
   "source": [
    "# string methods\n",
    "\n",
    "algunos métodos interesantes"
   ]
  },
  {
   "cell_type": "code",
   "execution_count": 29,
   "metadata": {},
   "outputs": [
    {
     "name": "stdout",
     "output_type": "stream",
     "text": [
      "Python\n",
      "True\n",
      "2\n",
      "True\n",
      "sebastian\n"
     ]
    }
   ],
   "source": [
    "word = 'python'\n",
    "print(word.capitalize())\n",
    "print(word.endswith('th',0, 4)) # str.endswith(suffix[, start[, end]])\n",
    "print(word.find('th'))\n",
    "print('th' in word)\n",
    "print(' sebastian '.strip())"
   ]
  },
  {
   "attachments": {},
   "cell_type": "markdown",
   "metadata": {},
   "source": [
    "## format"
   ]
  },
  {
   "cell_type": "code",
   "execution_count": 30,
   "metadata": {},
   "outputs": [
    {
     "name": "stdout",
     "output_type": "stream",
     "text": [
      "The sum of 1 + 2 is 3, test 3\n",
      "texto de prueba: python\n"
     ]
    }
   ],
   "source": [
    "# Format String Syntax\n",
    "print(\"The sum of 1 + 2 is {0}, test {0}\".format(1+2))\n",
    "\n",
    "# Formatted string literals\n",
    "print(f'texto de prueba: {word}')\n"
   ]
  },
  {
   "attachments": {},
   "cell_type": "markdown",
   "metadata": {},
   "source": [
    "----\n",
    "\n",
    "# Lists\n",
    "\n",
    "- conjunto ordenado de valores\n",
    "- los items pueden ser de distinto tipo\n",
    "- mutable\n",
    "\n",
    "> All slice operations return a new list containing the requested elements.\n"
   ]
  },
  {
   "cell_type": "code",
   "execution_count": 34,
   "metadata": {},
   "outputs": [
    {
     "name": "stdout",
     "output_type": "stream",
     "text": [
      "hola\n",
      "[4.5, 3, True]\n",
      "['hola', 4.5, 3, True, 99]\n"
     ]
    }
   ],
   "source": [
    "lista = ['hola', 4.5, 3, True]\n",
    "\n",
    "print(lista[0])\n",
    "print(lista[1:])\n",
    "print(lista + [99])"
   ]
  },
  {
   "attachments": {},
   "cell_type": "markdown",
   "metadata": {},
   "source": [
    "modificar lista"
   ]
  },
  {
   "cell_type": "code",
   "execution_count": 35,
   "metadata": {},
   "outputs": [
    {
     "name": "stdout",
     "output_type": "stream",
     "text": [
      "['hola', 4.5, 3, True, 'append']\n",
      "['hola', 4.5, 3, True, 'append', 'extend', 'extend2']\n",
      "['hola', 4.6, 3, True, 'append', 'extend', 'extend2']\n"
     ]
    }
   ],
   "source": [
    "# añadir elemento a la lista\n",
    "lista.append('append')\n",
    "print(lista)\n",
    "\n",
    "# unar otra lista a mi lista\n",
    "lista.extend(['extend', 'extend2'])\n",
    "print(lista)\n",
    "\n",
    "# modificar elemento\n",
    "lista[1] = 4.6\n",
    "print(lista)"
   ]
  },
  {
   "cell_type": "code",
   "execution_count": 19,
   "metadata": {},
   "outputs": [],
   "source": [
    "lista_vacia = []\n",
    "lista_de_listas = [[],[]]"
   ]
  },
  {
   "attachments": {},
   "cell_type": "markdown",
   "metadata": {},
   "source": [
    "remover elementos"
   ]
  },
  {
   "cell_type": "code",
   "execution_count": 30,
   "metadata": {},
   "outputs": [
    {
     "name": "stdout",
     "output_type": "stream",
     "text": [
      "[1, 2, 3, 4, 5, 6, 7, 8, 0]\n",
      "[1, 2, 3, 4, 5, 6, 7, 8]\n",
      "[1, 3, 4, 5, 6, 7, 8]\n",
      "[1, 4, 5, 6, 7, 8]\n",
      "[5, 6, 7, 8]\n"
     ]
    }
   ],
   "source": [
    "lista = [1, 2, 3, 4, 5, 6, 7, 8, 9, 0]\n",
    "\n",
    "lista.remove(9) # remove element by value\n",
    "print(lista)\n",
    "\n",
    "lista.pop() # remove the last element\n",
    "print(lista)\n",
    "lista.pop(1) # remove element by index (retorna el valor eliminado)\n",
    "print(lista)\n",
    "\n",
    "del lista[1] # remove element by index\n",
    "print(lista)\n",
    "del lista[:2] # remove element by slice\n",
    "print(lista)\n"
   ]
  },
  {
   "attachments": {},
   "cell_type": "markdown",
   "metadata": {},
   "source": [
    "----\n",
    "\n",
    "# Tuples\n",
    "\n",
    "- conjunto ordenado de valores\n",
    "- los items pueden ser de distinto tipo\n",
    "- inmutable\n",
    "\n",
    "Como las tuplas son estáticas, debes especificar sus elementos durante la creación"
   ]
  },
  {
   "cell_type": "code",
   "execution_count": 15,
   "metadata": {},
   "outputs": [
    {
     "name": "stdout",
     "output_type": "stream",
     "text": [
      "<class 'tuple'>\n",
      "<class 'int'>\n"
     ]
    }
   ],
   "source": [
    "objetos = (5, \"Hola mundo!\", True, -1.5)\n",
    "\n",
    "# Tupla de un solo elemento\n",
    "tupla = (5,)\n",
    "print(type(tupla))\n",
    "\n",
    "entero = (5)\n",
    "print(type(entero))"
   ]
  },
  {
   "attachments": {},
   "cell_type": "markdown",
   "metadata": {},
   "source": [
    "----\n",
    "\n",
    "# Sets\n",
    "\n",
    "- Conjunto no ordenado de valores (no se puede acceder por índice)\n",
    "- Conjunto de elementos únicos\n",
    "- Se crean a partir de un iterable (como listas o tuplas)\n",
    "- los items pueden ser de distinto tipo (pero no pueden ser listas, tuplas ni otros conjuntos)\n"
   ]
  },
  {
   "cell_type": "code",
   "execution_count": 43,
   "metadata": {},
   "outputs": [
    {
     "name": "stdout",
     "output_type": "stream",
     "text": [
      "{False, 1, 2, 3, 'hola'}\n",
      "{False, 1, 'hola', 5}\n",
      "False\n",
      "{1, 'hola', 5}\n"
     ]
    }
   ],
   "source": [
    "conjunto = {1, 2, 2, 3, 'hola', True, False}  # True = 1 y False = 0\n",
    "print(conjunto)\n",
    "\n",
    "diccionario = {}\n",
    "conjunto_vacio = set()\n",
    "conjunto = set([1, 2, 2, 3, 'hola', True, False])\n",
    "\n",
    "conjunto.add(5)\n",
    "conjunto.discard(2)\n",
    "conjunto.remove(3) # error al intentar borrar elemento inexistente\n",
    "print(conjunto)\n",
    "\n",
    "print(conjunto.pop())\n",
    "print(conjunto)"
   ]
  },
  {
   "attachments": {},
   "cell_type": "markdown",
   "metadata": {},
   "source": [
    "operaciones básicas entre conjuntos"
   ]
  },
  {
   "cell_type": "code",
   "execution_count": 44,
   "metadata": {},
   "outputs": [
    {
     "name": "stdout",
     "output_type": "stream",
     "text": [
      "{1, 2, 3, 4, 5}\n",
      "{3}\n",
      "{1, 2}\n",
      "{1, 2, 4, 5}\n"
     ]
    }
   ],
   "source": [
    "my_set_1 = {1,2,3}\n",
    "my_set_2 = {3,4,5}\n",
    "print(my_set_1 | my_set_2)  # union \"my_set_1.union(my_set_2)\"\n",
    "print(my_set_1 & my_set_2)  # intersection \"my_set_1.intersection(my_set_2)\"\n",
    "print(my_set_1 - my_set_2)  # diferencia \"my_set_1.difference(my_set_2)\"\n",
    "print(my_set_1 ^ my_set_2)  # diferencia simétrica \"my_set_1.symmetric_difference(my_set_2)\""
   ]
  },
  {
   "attachments": {},
   "cell_type": "markdown",
   "metadata": {},
   "source": [
    "Dos conjuntos son iguales si y solo si contienen los mismos elementos (a esto se lo conoce como principio de extensionalidad)"
   ]
  },
  {
   "cell_type": "code",
   "execution_count": 48,
   "metadata": {},
   "outputs": [
    {
     "data": {
      "text/plain": [
       "True"
      ]
     },
     "execution_count": 48,
     "metadata": {},
     "output_type": "execute_result"
    }
   ],
   "source": [
    "{1, 2, 3} == {3, 2, 1}"
   ]
  },
  {
   "attachments": {},
   "cell_type": "markdown",
   "metadata": {},
   "source": [
    "## frozenset\n",
    "\n",
    "implementación similar a set pero **inmutable**. Comparte todas las operaciones de conjuntos a excepción de aquellas que implican alterar sus elementos (add(), discard(), etc.). La diferencia es análoga a la existente entre una lista y una tupla.\n",
    "\n",
    "Esto permite, por ejemplo, emplear conjuntos como claves en los diccionarios"
   ]
  },
  {
   "cell_type": "code",
   "execution_count": 47,
   "metadata": {},
   "outputs": [
    {
     "data": {
      "text/plain": [
       "{frozenset({1, 2, 3}): 'frozenset test'}"
      ]
     },
     "execution_count": 47,
     "metadata": {},
     "output_type": "execute_result"
    }
   ],
   "source": [
    "b = frozenset({1, 2, 3})\n",
    "{b: 'frozenset test'}"
   ]
  }
 ],
 "metadata": {
  "kernelspec": {
   "display_name": "Python 3",
   "language": "python",
   "name": "python3"
  },
  "language_info": {
   "codemirror_mode": {
    "name": "ipython",
    "version": 3
   },
   "file_extension": ".py",
   "mimetype": "text/x-python",
   "name": "python",
   "nbconvert_exporter": "python",
   "pygments_lexer": "ipython3",
   "version": "3.9.13"
  },
  "orig_nbformat": 4
 },
 "nbformat": 4,
 "nbformat_minor": 2
}
